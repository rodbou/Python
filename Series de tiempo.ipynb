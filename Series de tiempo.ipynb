{
 "cells": [
  {
   "cell_type": "code",
   "execution_count": 10,
   "metadata": {},
   "outputs": [],
   "source": [
    "import pandas as pd\n",
    "import numpy as np\n",
    "import matplotlib as mpl\n",
    "%matplotlib inline\n"
   ]
  },
  {
   "cell_type": "code",
   "execution_count": 11,
   "metadata": {},
   "outputs": [],
   "source": [
    "# Importo un csv con info de Exxon a un DF\n",
    "\n",
    "exxon = pd.read_csv(\"XOM.csv\")"
   ]
  },
  {
   "cell_type": "code",
   "execution_count": 12,
   "metadata": {},
   "outputs": [
    {
     "data": {
      "text/html": [
       "<div>\n",
       "<style scoped>\n",
       "    .dataframe tbody tr th:only-of-type {\n",
       "        vertical-align: middle;\n",
       "    }\n",
       "\n",
       "    .dataframe tbody tr th {\n",
       "        vertical-align: top;\n",
       "    }\n",
       "\n",
       "    .dataframe thead th {\n",
       "        text-align: right;\n",
       "    }\n",
       "</style>\n",
       "<table border=\"1\" class=\"dataframe\">\n",
       "  <thead>\n",
       "    <tr style=\"text-align: right;\">\n",
       "      <th></th>\n",
       "      <th>Date</th>\n",
       "      <th>Price</th>\n",
       "      <th>Open</th>\n",
       "      <th>High</th>\n",
       "      <th>Low</th>\n",
       "      <th>Vol.</th>\n",
       "      <th>Change %</th>\n",
       "    </tr>\n",
       "  </thead>\n",
       "  <tbody>\n",
       "    <tr>\n",
       "      <th>0</th>\n",
       "      <td>Sep 22, 2020</td>\n",
       "      <td>35.53</td>\n",
       "      <td>36.45</td>\n",
       "      <td>36.83</td>\n",
       "      <td>35.49</td>\n",
       "      <td>27.27M</td>\n",
       "      <td>-2.47%</td>\n",
       "    </tr>\n",
       "    <tr>\n",
       "      <th>1</th>\n",
       "      <td>Sep 21, 2020</td>\n",
       "      <td>36.43</td>\n",
       "      <td>36.41</td>\n",
       "      <td>36.69</td>\n",
       "      <td>35.69</td>\n",
       "      <td>35.35M</td>\n",
       "      <td>-2.04%</td>\n",
       "    </tr>\n",
       "    <tr>\n",
       "      <th>2</th>\n",
       "      <td>Sep 18, 2020</td>\n",
       "      <td>37.19</td>\n",
       "      <td>37.53</td>\n",
       "      <td>37.82</td>\n",
       "      <td>36.70</td>\n",
       "      <td>46.85M</td>\n",
       "      <td>-1.61%</td>\n",
       "    </tr>\n",
       "    <tr>\n",
       "      <th>3</th>\n",
       "      <td>Sep 17, 2020</td>\n",
       "      <td>37.80</td>\n",
       "      <td>37.29</td>\n",
       "      <td>37.97</td>\n",
       "      <td>36.99</td>\n",
       "      <td>24.70M</td>\n",
       "      <td>-0.03%</td>\n",
       "    </tr>\n",
       "    <tr>\n",
       "      <th>4</th>\n",
       "      <td>Sep 16, 2020</td>\n",
       "      <td>37.81</td>\n",
       "      <td>36.52</td>\n",
       "      <td>38.15</td>\n",
       "      <td>36.28</td>\n",
       "      <td>30.92M</td>\n",
       "      <td>4.25%</td>\n",
       "    </tr>\n",
       "    <tr>\n",
       "      <th>...</th>\n",
       "      <td>...</td>\n",
       "      <td>...</td>\n",
       "      <td>...</td>\n",
       "      <td>...</td>\n",
       "      <td>...</td>\n",
       "      <td>...</td>\n",
       "      <td>...</td>\n",
       "    </tr>\n",
       "    <tr>\n",
       "      <th>178</th>\n",
       "      <td>Jan 08, 2020</td>\n",
       "      <td>69.23</td>\n",
       "      <td>70.11</td>\n",
       "      <td>70.28</td>\n",
       "      <td>69.17</td>\n",
       "      <td>15.14M</td>\n",
       "      <td>-1.51%</td>\n",
       "    </tr>\n",
       "    <tr>\n",
       "      <th>179</th>\n",
       "      <td>Jan 07, 2020</td>\n",
       "      <td>70.29</td>\n",
       "      <td>70.50</td>\n",
       "      <td>70.52</td>\n",
       "      <td>69.51</td>\n",
       "      <td>17.50M</td>\n",
       "      <td>-0.82%</td>\n",
       "    </tr>\n",
       "    <tr>\n",
       "      <th>180</th>\n",
       "      <td>Jan 06, 2020</td>\n",
       "      <td>70.87</td>\n",
       "      <td>70.32</td>\n",
       "      <td>71.36</td>\n",
       "      <td>70.23</td>\n",
       "      <td>20.08M</td>\n",
       "      <td>0.77%</td>\n",
       "    </tr>\n",
       "    <tr>\n",
       "      <th>181</th>\n",
       "      <td>Jan 03, 2020</td>\n",
       "      <td>70.33</td>\n",
       "      <td>71.34</td>\n",
       "      <td>71.37</td>\n",
       "      <td>70.16</td>\n",
       "      <td>17.39M</td>\n",
       "      <td>-0.80%</td>\n",
       "    </tr>\n",
       "    <tr>\n",
       "      <th>182</th>\n",
       "      <td>Jan 02, 2020</td>\n",
       "      <td>70.90</td>\n",
       "      <td>70.24</td>\n",
       "      <td>71.02</td>\n",
       "      <td>70.24</td>\n",
       "      <td>12.41M</td>\n",
       "      <td>1.61%</td>\n",
       "    </tr>\n",
       "  </tbody>\n",
       "</table>\n",
       "<p>183 rows × 7 columns</p>\n",
       "</div>"
      ],
      "text/plain": [
       "             Date  Price   Open   High    Low    Vol. Change %\n",
       "0    Sep 22, 2020  35.53  36.45  36.83  35.49  27.27M   -2.47%\n",
       "1    Sep 21, 2020  36.43  36.41  36.69  35.69  35.35M   -2.04%\n",
       "2    Sep 18, 2020  37.19  37.53  37.82  36.70  46.85M   -1.61%\n",
       "3    Sep 17, 2020  37.80  37.29  37.97  36.99  24.70M   -0.03%\n",
       "4    Sep 16, 2020  37.81  36.52  38.15  36.28  30.92M    4.25%\n",
       "..            ...    ...    ...    ...    ...     ...      ...\n",
       "178  Jan 08, 2020  69.23  70.11  70.28  69.17  15.14M   -1.51%\n",
       "179  Jan 07, 2020  70.29  70.50  70.52  69.51  17.50M   -0.82%\n",
       "180  Jan 06, 2020  70.87  70.32  71.36  70.23  20.08M    0.77%\n",
       "181  Jan 03, 2020  70.33  71.34  71.37  70.16  17.39M   -0.80%\n",
       "182  Jan 02, 2020  70.90  70.24  71.02  70.24  12.41M    1.61%\n",
       "\n",
       "[183 rows x 7 columns]"
      ]
     },
     "execution_count": 12,
     "metadata": {},
     "output_type": "execute_result"
    }
   ],
   "source": [
    "exxon"
   ]
  },
  {
   "cell_type": "code",
   "execution_count": 13,
   "metadata": {},
   "outputs": [],
   "source": [
    "#Visualizo los primeros 15 reg\n",
    "\n",
    "exxib = exxon.head(15)"
   ]
  },
  {
   "cell_type": "code",
   "execution_count": 14,
   "metadata": {},
   "outputs": [
    {
     "data": {
      "text/html": [
       "<div>\n",
       "<style scoped>\n",
       "    .dataframe tbody tr th:only-of-type {\n",
       "        vertical-align: middle;\n",
       "    }\n",
       "\n",
       "    .dataframe tbody tr th {\n",
       "        vertical-align: top;\n",
       "    }\n",
       "\n",
       "    .dataframe thead th {\n",
       "        text-align: right;\n",
       "    }\n",
       "</style>\n",
       "<table border=\"1\" class=\"dataframe\">\n",
       "  <thead>\n",
       "    <tr style=\"text-align: right;\">\n",
       "      <th></th>\n",
       "      <th>Date</th>\n",
       "      <th>Price</th>\n",
       "      <th>Open</th>\n",
       "      <th>High</th>\n",
       "      <th>Low</th>\n",
       "      <th>Vol.</th>\n",
       "      <th>Change %</th>\n",
       "    </tr>\n",
       "  </thead>\n",
       "  <tbody>\n",
       "    <tr>\n",
       "      <th>0</th>\n",
       "      <td>Sep 22, 2020</td>\n",
       "      <td>35.53</td>\n",
       "      <td>36.45</td>\n",
       "      <td>36.83</td>\n",
       "      <td>35.49</td>\n",
       "      <td>27.27M</td>\n",
       "      <td>-2.47%</td>\n",
       "    </tr>\n",
       "    <tr>\n",
       "      <th>1</th>\n",
       "      <td>Sep 21, 2020</td>\n",
       "      <td>36.43</td>\n",
       "      <td>36.41</td>\n",
       "      <td>36.69</td>\n",
       "      <td>35.69</td>\n",
       "      <td>35.35M</td>\n",
       "      <td>-2.04%</td>\n",
       "    </tr>\n",
       "    <tr>\n",
       "      <th>2</th>\n",
       "      <td>Sep 18, 2020</td>\n",
       "      <td>37.19</td>\n",
       "      <td>37.53</td>\n",
       "      <td>37.82</td>\n",
       "      <td>36.70</td>\n",
       "      <td>46.85M</td>\n",
       "      <td>-1.61%</td>\n",
       "    </tr>\n",
       "    <tr>\n",
       "      <th>3</th>\n",
       "      <td>Sep 17, 2020</td>\n",
       "      <td>37.80</td>\n",
       "      <td>37.29</td>\n",
       "      <td>37.97</td>\n",
       "      <td>36.99</td>\n",
       "      <td>24.70M</td>\n",
       "      <td>-0.03%</td>\n",
       "    </tr>\n",
       "    <tr>\n",
       "      <th>4</th>\n",
       "      <td>Sep 16, 2020</td>\n",
       "      <td>37.81</td>\n",
       "      <td>36.52</td>\n",
       "      <td>38.15</td>\n",
       "      <td>36.28</td>\n",
       "      <td>30.92M</td>\n",
       "      <td>4.25%</td>\n",
       "    </tr>\n",
       "    <tr>\n",
       "      <th>5</th>\n",
       "      <td>Sep 15, 2020</td>\n",
       "      <td>36.27</td>\n",
       "      <td>36.76</td>\n",
       "      <td>37.37</td>\n",
       "      <td>36.21</td>\n",
       "      <td>23.72M</td>\n",
       "      <td>-1.06%</td>\n",
       "    </tr>\n",
       "    <tr>\n",
       "      <th>6</th>\n",
       "      <td>Sep 14, 2020</td>\n",
       "      <td>36.66</td>\n",
       "      <td>36.84</td>\n",
       "      <td>37.00</td>\n",
       "      <td>36.50</td>\n",
       "      <td>26.13M</td>\n",
       "      <td>-0.65%</td>\n",
       "    </tr>\n",
       "    <tr>\n",
       "      <th>7</th>\n",
       "      <td>Sep 11, 2020</td>\n",
       "      <td>36.90</td>\n",
       "      <td>37.13</td>\n",
       "      <td>37.31</td>\n",
       "      <td>36.49</td>\n",
       "      <td>26.84M</td>\n",
       "      <td>-0.27%</td>\n",
       "    </tr>\n",
       "    <tr>\n",
       "      <th>8</th>\n",
       "      <td>Sep 10, 2020</td>\n",
       "      <td>37.00</td>\n",
       "      <td>38.18</td>\n",
       "      <td>38.36</td>\n",
       "      <td>36.91</td>\n",
       "      <td>34.38M</td>\n",
       "      <td>-2.50%</td>\n",
       "    </tr>\n",
       "    <tr>\n",
       "      <th>9</th>\n",
       "      <td>Sep 09, 2020</td>\n",
       "      <td>37.95</td>\n",
       "      <td>38.46</td>\n",
       "      <td>38.82</td>\n",
       "      <td>37.92</td>\n",
       "      <td>25.89M</td>\n",
       "      <td>-0.60%</td>\n",
       "    </tr>\n",
       "    <tr>\n",
       "      <th>10</th>\n",
       "      <td>Sep 08, 2020</td>\n",
       "      <td>38.18</td>\n",
       "      <td>38.30</td>\n",
       "      <td>38.67</td>\n",
       "      <td>37.36</td>\n",
       "      <td>38.50M</td>\n",
       "      <td>-2.30%</td>\n",
       "    </tr>\n",
       "    <tr>\n",
       "      <th>11</th>\n",
       "      <td>Sep 04, 2020</td>\n",
       "      <td>39.08</td>\n",
       "      <td>39.46</td>\n",
       "      <td>39.79</td>\n",
       "      <td>38.65</td>\n",
       "      <td>24.63M</td>\n",
       "      <td>-0.08%</td>\n",
       "    </tr>\n",
       "    <tr>\n",
       "      <th>12</th>\n",
       "      <td>Sep 03, 2020</td>\n",
       "      <td>39.11</td>\n",
       "      <td>39.20</td>\n",
       "      <td>40.02</td>\n",
       "      <td>38.89</td>\n",
       "      <td>28.82M</td>\n",
       "      <td>-0.20%</td>\n",
       "    </tr>\n",
       "    <tr>\n",
       "      <th>13</th>\n",
       "      <td>Sep 02, 2020</td>\n",
       "      <td>39.19</td>\n",
       "      <td>39.23</td>\n",
       "      <td>39.70</td>\n",
       "      <td>38.98</td>\n",
       "      <td>26.41M</td>\n",
       "      <td>-0.61%</td>\n",
       "    </tr>\n",
       "    <tr>\n",
       "      <th>14</th>\n",
       "      <td>Sep 01, 2020</td>\n",
       "      <td>39.43</td>\n",
       "      <td>39.75</td>\n",
       "      <td>39.75</td>\n",
       "      <td>39.04</td>\n",
       "      <td>22.00M</td>\n",
       "      <td>-1.28%</td>\n",
       "    </tr>\n",
       "  </tbody>\n",
       "</table>\n",
       "</div>"
      ],
      "text/plain": [
       "            Date  Price   Open   High    Low    Vol. Change %\n",
       "0   Sep 22, 2020  35.53  36.45  36.83  35.49  27.27M   -2.47%\n",
       "1   Sep 21, 2020  36.43  36.41  36.69  35.69  35.35M   -2.04%\n",
       "2   Sep 18, 2020  37.19  37.53  37.82  36.70  46.85M   -1.61%\n",
       "3   Sep 17, 2020  37.80  37.29  37.97  36.99  24.70M   -0.03%\n",
       "4   Sep 16, 2020  37.81  36.52  38.15  36.28  30.92M    4.25%\n",
       "5   Sep 15, 2020  36.27  36.76  37.37  36.21  23.72M   -1.06%\n",
       "6   Sep 14, 2020  36.66  36.84  37.00  36.50  26.13M   -0.65%\n",
       "7   Sep 11, 2020  36.90  37.13  37.31  36.49  26.84M   -0.27%\n",
       "8   Sep 10, 2020  37.00  38.18  38.36  36.91  34.38M   -2.50%\n",
       "9   Sep 09, 2020  37.95  38.46  38.82  37.92  25.89M   -0.60%\n",
       "10  Sep 08, 2020  38.18  38.30  38.67  37.36  38.50M   -2.30%\n",
       "11  Sep 04, 2020  39.08  39.46  39.79  38.65  24.63M   -0.08%\n",
       "12  Sep 03, 2020  39.11  39.20  40.02  38.89  28.82M   -0.20%\n",
       "13  Sep 02, 2020  39.19  39.23  39.70  38.98  26.41M   -0.61%\n",
       "14  Sep 01, 2020  39.43  39.75  39.75  39.04  22.00M   -1.28%"
      ]
     },
     "execution_count": 14,
     "metadata": {},
     "output_type": "execute_result"
    }
   ],
   "source": [
    "exxib"
   ]
  },
  {
   "cell_type": "code",
   "execution_count": 15,
   "metadata": {},
   "outputs": [],
   "source": [
    "# Genero un DF seleccionando las 2 primeras columnas de la anterior DF\n",
    "\n",
    "s = exxon.iloc[:,0:2]"
   ]
  },
  {
   "cell_type": "code",
   "execution_count": 16,
   "metadata": {},
   "outputs": [
    {
     "data": {
      "text/html": [
       "<div>\n",
       "<style scoped>\n",
       "    .dataframe tbody tr th:only-of-type {\n",
       "        vertical-align: middle;\n",
       "    }\n",
       "\n",
       "    .dataframe tbody tr th {\n",
       "        vertical-align: top;\n",
       "    }\n",
       "\n",
       "    .dataframe thead th {\n",
       "        text-align: right;\n",
       "    }\n",
       "</style>\n",
       "<table border=\"1\" class=\"dataframe\">\n",
       "  <thead>\n",
       "    <tr style=\"text-align: right;\">\n",
       "      <th></th>\n",
       "      <th>Date</th>\n",
       "      <th>Price</th>\n",
       "    </tr>\n",
       "  </thead>\n",
       "  <tbody>\n",
       "    <tr>\n",
       "      <th>0</th>\n",
       "      <td>Sep 22, 2020</td>\n",
       "      <td>35.53</td>\n",
       "    </tr>\n",
       "    <tr>\n",
       "      <th>1</th>\n",
       "      <td>Sep 21, 2020</td>\n",
       "      <td>36.43</td>\n",
       "    </tr>\n",
       "    <tr>\n",
       "      <th>2</th>\n",
       "      <td>Sep 18, 2020</td>\n",
       "      <td>37.19</td>\n",
       "    </tr>\n",
       "    <tr>\n",
       "      <th>3</th>\n",
       "      <td>Sep 17, 2020</td>\n",
       "      <td>37.80</td>\n",
       "    </tr>\n",
       "    <tr>\n",
       "      <th>4</th>\n",
       "      <td>Sep 16, 2020</td>\n",
       "      <td>37.81</td>\n",
       "    </tr>\n",
       "    <tr>\n",
       "      <th>...</th>\n",
       "      <td>...</td>\n",
       "      <td>...</td>\n",
       "    </tr>\n",
       "    <tr>\n",
       "      <th>178</th>\n",
       "      <td>Jan 08, 2020</td>\n",
       "      <td>69.23</td>\n",
       "    </tr>\n",
       "    <tr>\n",
       "      <th>179</th>\n",
       "      <td>Jan 07, 2020</td>\n",
       "      <td>70.29</td>\n",
       "    </tr>\n",
       "    <tr>\n",
       "      <th>180</th>\n",
       "      <td>Jan 06, 2020</td>\n",
       "      <td>70.87</td>\n",
       "    </tr>\n",
       "    <tr>\n",
       "      <th>181</th>\n",
       "      <td>Jan 03, 2020</td>\n",
       "      <td>70.33</td>\n",
       "    </tr>\n",
       "    <tr>\n",
       "      <th>182</th>\n",
       "      <td>Jan 02, 2020</td>\n",
       "      <td>70.90</td>\n",
       "    </tr>\n",
       "  </tbody>\n",
       "</table>\n",
       "<p>183 rows × 2 columns</p>\n",
       "</div>"
      ],
      "text/plain": [
       "             Date  Price\n",
       "0    Sep 22, 2020  35.53\n",
       "1    Sep 21, 2020  36.43\n",
       "2    Sep 18, 2020  37.19\n",
       "3    Sep 17, 2020  37.80\n",
       "4    Sep 16, 2020  37.81\n",
       "..            ...    ...\n",
       "178  Jan 08, 2020  69.23\n",
       "179  Jan 07, 2020  70.29\n",
       "180  Jan 06, 2020  70.87\n",
       "181  Jan 03, 2020  70.33\n",
       "182  Jan 02, 2020  70.90\n",
       "\n",
       "[183 rows x 2 columns]"
      ]
     },
     "execution_count": 16,
     "metadata": {},
     "output_type": "execute_result"
    }
   ],
   "source": [
    "s"
   ]
  },
  {
   "cell_type": "code",
   "execution_count": 17,
   "metadata": {},
   "outputs": [],
   "source": [
    "\n",
    "\n",
    "d = s.sort_values('Date',ascending=True)"
   ]
  },
  {
   "cell_type": "code",
   "execution_count": 18,
   "metadata": {},
   "outputs": [
    {
     "data": {
      "text/html": [
       "<div>\n",
       "<style scoped>\n",
       "    .dataframe tbody tr th:only-of-type {\n",
       "        vertical-align: middle;\n",
       "    }\n",
       "\n",
       "    .dataframe tbody tr th {\n",
       "        vertical-align: top;\n",
       "    }\n",
       "\n",
       "    .dataframe thead th {\n",
       "        text-align: right;\n",
       "    }\n",
       "</style>\n",
       "<table border=\"1\" class=\"dataframe\">\n",
       "  <thead>\n",
       "    <tr style=\"text-align: right;\">\n",
       "      <th></th>\n",
       "      <th>Date</th>\n",
       "      <th>Price</th>\n",
       "    </tr>\n",
       "  </thead>\n",
       "  <tbody>\n",
       "    <tr>\n",
       "      <th>120</th>\n",
       "      <td>Apr 01, 2020</td>\n",
       "      <td>37.53</td>\n",
       "    </tr>\n",
       "    <tr>\n",
       "      <th>119</th>\n",
       "      <td>Apr 02, 2020</td>\n",
       "      <td>40.40</td>\n",
       "    </tr>\n",
       "    <tr>\n",
       "      <th>118</th>\n",
       "      <td>Apr 03, 2020</td>\n",
       "      <td>39.21</td>\n",
       "    </tr>\n",
       "    <tr>\n",
       "      <th>117</th>\n",
       "      <td>Apr 06, 2020</td>\n",
       "      <td>40.47</td>\n",
       "    </tr>\n",
       "    <tr>\n",
       "      <th>116</th>\n",
       "      <td>Apr 07, 2020</td>\n",
       "      <td>41.24</td>\n",
       "    </tr>\n",
       "    <tr>\n",
       "      <th>...</th>\n",
       "      <td>...</td>\n",
       "      <td>...</td>\n",
       "    </tr>\n",
       "    <tr>\n",
       "      <th>4</th>\n",
       "      <td>Sep 16, 2020</td>\n",
       "      <td>37.81</td>\n",
       "    </tr>\n",
       "    <tr>\n",
       "      <th>3</th>\n",
       "      <td>Sep 17, 2020</td>\n",
       "      <td>37.80</td>\n",
       "    </tr>\n",
       "    <tr>\n",
       "      <th>2</th>\n",
       "      <td>Sep 18, 2020</td>\n",
       "      <td>37.19</td>\n",
       "    </tr>\n",
       "    <tr>\n",
       "      <th>1</th>\n",
       "      <td>Sep 21, 2020</td>\n",
       "      <td>36.43</td>\n",
       "    </tr>\n",
       "    <tr>\n",
       "      <th>0</th>\n",
       "      <td>Sep 22, 2020</td>\n",
       "      <td>35.53</td>\n",
       "    </tr>\n",
       "  </tbody>\n",
       "</table>\n",
       "<p>183 rows × 2 columns</p>\n",
       "</div>"
      ],
      "text/plain": [
       "             Date  Price\n",
       "120  Apr 01, 2020  37.53\n",
       "119  Apr 02, 2020  40.40\n",
       "118  Apr 03, 2020  39.21\n",
       "117  Apr 06, 2020  40.47\n",
       "116  Apr 07, 2020  41.24\n",
       "..            ...    ...\n",
       "4    Sep 16, 2020  37.81\n",
       "3    Sep 17, 2020  37.80\n",
       "2    Sep 18, 2020  37.19\n",
       "1    Sep 21, 2020  36.43\n",
       "0    Sep 22, 2020  35.53\n",
       "\n",
       "[183 rows x 2 columns]"
      ]
     },
     "execution_count": 18,
     "metadata": {},
     "output_type": "execute_result"
    }
   ],
   "source": [
    "d"
   ]
  },
  {
   "cell_type": "code",
   "execution_count": 19,
   "metadata": {},
   "outputs": [],
   "source": [
    "# Seteo el indice y pongo la fecha como index\n",
    "\n",
    "s2 = s.set_index('Date')"
   ]
  },
  {
   "cell_type": "code",
   "execution_count": 20,
   "metadata": {},
   "outputs": [
    {
     "data": {
      "text/html": [
       "<div>\n",
       "<style scoped>\n",
       "    .dataframe tbody tr th:only-of-type {\n",
       "        vertical-align: middle;\n",
       "    }\n",
       "\n",
       "    .dataframe tbody tr th {\n",
       "        vertical-align: top;\n",
       "    }\n",
       "\n",
       "    .dataframe thead th {\n",
       "        text-align: right;\n",
       "    }\n",
       "</style>\n",
       "<table border=\"1\" class=\"dataframe\">\n",
       "  <thead>\n",
       "    <tr style=\"text-align: right;\">\n",
       "      <th></th>\n",
       "      <th>Price</th>\n",
       "    </tr>\n",
       "    <tr>\n",
       "      <th>Date</th>\n",
       "      <th></th>\n",
       "    </tr>\n",
       "  </thead>\n",
       "  <tbody>\n",
       "    <tr>\n",
       "      <th>Sep 22, 2020</th>\n",
       "      <td>35.53</td>\n",
       "    </tr>\n",
       "    <tr>\n",
       "      <th>Sep 21, 2020</th>\n",
       "      <td>36.43</td>\n",
       "    </tr>\n",
       "    <tr>\n",
       "      <th>Sep 18, 2020</th>\n",
       "      <td>37.19</td>\n",
       "    </tr>\n",
       "    <tr>\n",
       "      <th>Sep 17, 2020</th>\n",
       "      <td>37.80</td>\n",
       "    </tr>\n",
       "    <tr>\n",
       "      <th>Sep 16, 2020</th>\n",
       "      <td>37.81</td>\n",
       "    </tr>\n",
       "    <tr>\n",
       "      <th>...</th>\n",
       "      <td>...</td>\n",
       "    </tr>\n",
       "    <tr>\n",
       "      <th>Jan 08, 2020</th>\n",
       "      <td>69.23</td>\n",
       "    </tr>\n",
       "    <tr>\n",
       "      <th>Jan 07, 2020</th>\n",
       "      <td>70.29</td>\n",
       "    </tr>\n",
       "    <tr>\n",
       "      <th>Jan 06, 2020</th>\n",
       "      <td>70.87</td>\n",
       "    </tr>\n",
       "    <tr>\n",
       "      <th>Jan 03, 2020</th>\n",
       "      <td>70.33</td>\n",
       "    </tr>\n",
       "    <tr>\n",
       "      <th>Jan 02, 2020</th>\n",
       "      <td>70.90</td>\n",
       "    </tr>\n",
       "  </tbody>\n",
       "</table>\n",
       "<p>183 rows × 1 columns</p>\n",
       "</div>"
      ],
      "text/plain": [
       "              Price\n",
       "Date               \n",
       "Sep 22, 2020  35.53\n",
       "Sep 21, 2020  36.43\n",
       "Sep 18, 2020  37.19\n",
       "Sep 17, 2020  37.80\n",
       "Sep 16, 2020  37.81\n",
       "...             ...\n",
       "Jan 08, 2020  69.23\n",
       "Jan 07, 2020  70.29\n",
       "Jan 06, 2020  70.87\n",
       "Jan 03, 2020  70.33\n",
       "Jan 02, 2020  70.90\n",
       "\n",
       "[183 rows x 1 columns]"
      ]
     },
     "execution_count": 20,
     "metadata": {},
     "output_type": "execute_result"
    }
   ],
   "source": [
    "s2"
   ]
  },
  {
   "cell_type": "code",
   "execution_count": 132,
   "metadata": {},
   "outputs": [],
   "source": [
    "# Ordeno por fecha ascendente\n",
    "\n",
    "s2 =s2.sort_values('Date',ascending=True,inplace=True)"
   ]
  },
  {
   "cell_type": "code",
   "execution_count": 133,
   "metadata": {},
   "outputs": [],
   "source": [
    "s2"
   ]
  },
  {
   "cell_type": "code",
   "execution_count": 88,
   "metadata": {},
   "outputs": [
    {
     "data": {
      "image/png": "[encoded data removed]",
      "text/plain": [
       "<Figure size 640x480 with 1 Axes>"
      ]
     },
     "metadata": {},
     "output_type": "display_data"
    },
    {
     "data": {
      "text/plain": [
       "<ggplot: (-9223371976314860040)>"
      ]
     },
     "execution_count": 88,
     "metadata": {},
     "output_type": "execute_result"
    }
   ],
   "source": [
    "# Grafico de dispersión\n",
    "\n",
    "(p9.ggplot(data=d,\n",
    "           mapping=p9.aes(x='Date', y='Price'))\n",
    "    + p9.geom_point()\n",
    ")"
   ]
  },
  {
   "cell_type": "code",
   "execution_count": 90,
   "metadata": {},
   "outputs": [
    {
     "data": {
      "text/html": [
       "<div>\n",
       "<style scoped>\n",
       "    .dataframe tbody tr th:only-of-type {\n",
       "        vertical-align: middle;\n",
       "    }\n",
       "\n",
       "    .dataframe tbody tr th {\n",
       "        vertical-align: top;\n",
       "    }\n",
       "\n",
       "    .dataframe thead th {\n",
       "        text-align: right;\n",
       "    }\n",
       "</style>\n",
       "<table border=\"1\" class=\"dataframe\">\n",
       "  <thead>\n",
       "    <tr style=\"text-align: right;\">\n",
       "      <th></th>\n",
       "      <th>Price</th>\n",
       "      <th>Open</th>\n",
       "      <th>High</th>\n",
       "      <th>Low</th>\n",
       "    </tr>\n",
       "  </thead>\n",
       "  <tbody>\n",
       "    <tr>\n",
       "      <th>count</th>\n",
       "      <td>183.000000</td>\n",
       "      <td>183.000000</td>\n",
       "      <td>183.000000</td>\n",
       "      <td>183.000000</td>\n",
       "    </tr>\n",
       "    <tr>\n",
       "      <th>mean</th>\n",
       "      <td>47.311311</td>\n",
       "      <td>47.498470</td>\n",
       "      <td>48.191257</td>\n",
       "      <td>46.581694</td>\n",
       "    </tr>\n",
       "    <tr>\n",
       "      <th>std</th>\n",
       "      <td>9.690668</td>\n",
       "      <td>9.748527</td>\n",
       "      <td>9.546137</td>\n",
       "      <td>9.855437</td>\n",
       "    </tr>\n",
       "    <tr>\n",
       "      <th>min</th>\n",
       "      <td>31.450000</td>\n",
       "      <td>32.530000</td>\n",
       "      <td>32.700000</td>\n",
       "      <td>30.110000</td>\n",
       "    </tr>\n",
       "    <tr>\n",
       "      <th>25%</th>\n",
       "      <td>41.610000</td>\n",
       "      <td>41.375000</td>\n",
       "      <td>42.525000</td>\n",
       "      <td>40.855000</td>\n",
       "    </tr>\n",
       "    <tr>\n",
       "      <th>50%</th>\n",
       "      <td>44.070000</td>\n",
       "      <td>44.340000</td>\n",
       "      <td>44.940000</td>\n",
       "      <td>43.540000</td>\n",
       "    </tr>\n",
       "    <tr>\n",
       "      <th>75%</th>\n",
       "      <td>50.380000</td>\n",
       "      <td>51.035000</td>\n",
       "      <td>51.940000</td>\n",
       "      <td>49.420000</td>\n",
       "    </tr>\n",
       "    <tr>\n",
       "      <th>max</th>\n",
       "      <td>70.900000</td>\n",
       "      <td>71.340000</td>\n",
       "      <td>71.370000</td>\n",
       "      <td>70.240000</td>\n",
       "    </tr>\n",
       "  </tbody>\n",
       "</table>\n",
       "</div>"
      ],
      "text/plain": [
       "            Price        Open        High         Low\n",
       "count  183.000000  183.000000  183.000000  183.000000\n",
       "mean    47.311311   47.498470   48.191257   46.581694\n",
       "std      9.690668    9.748527    9.546137    9.855437\n",
       "min     31.450000   32.530000   32.700000   30.110000\n",
       "25%     41.610000   41.375000   42.525000   40.855000\n",
       "50%     44.070000   44.340000   44.940000   43.540000\n",
       "75%     50.380000   51.035000   51.940000   49.420000\n",
       "max     70.900000   71.340000   71.370000   70.240000"
      ]
     },
     "execution_count": 90,
     "metadata": {},
     "output_type": "execute_result"
    }
   ],
   "source": [
    "# Medidas descriptivas\n",
    "\n",
    "exxon.describe()"
   ]
  },
  {
   "cell_type": "code",
   "execution_count": 19,
   "metadata": {
    "scrolled": true
   },
   "outputs": [
    {
     "name": "stdout",
     "output_type": "stream",
     "text": [
      "Collecting pandas-datareader\n",
      "  Downloading pandas_datareader-0.9.0-py3-none-any.whl (107 kB)\n",
      "Requirement already satisfied: lxml in c:\\users\\rodrigo\\anaconda3\\lib\\site-packages (from pandas-datareader) (4.5.0)\n",
      "Requirement already satisfied: requests>=2.19.0 in c:\\users\\rodrigo\\anaconda3\\lib\\site-packages (from pandas-datareader) (2.22.0)\n",
      "Requirement already satisfied: pandas>=0.23 in c:\\users\\rodrigo\\anaconda3\\lib\\site-packages (from pandas-datareader) (1.0.1)\n",
      "Requirement already satisfied: urllib3!=1.25.0,!=1.25.1,<1.26,>=1.21.1 in c:\\users\\rodrigo\\anaconda3\\lib\\site-packages (from requests>=2.19.0->pandas-datareader) (1.25.8)\n",
      "Requirement already satisfied: chardet<3.1.0,>=3.0.2 in c:\\users\\rodrigo\\anaconda3\\lib\\site-packages (from requests>=2.19.0->pandas-datareader) (3.0.4)\n",
      "Requirement already satisfied: idna<2.9,>=2.5 in c:\\users\\rodrigo\\anaconda3\\lib\\site-packages (from requests>=2.19.0->pandas-datareader) (2.8)\n",
      "Requirement already satisfied: certifi>=2017.4.17 in c:\\users\\rodrigo\\anaconda3\\lib\\site-packages (from requests>=2.19.0->pandas-datareader) (2019.11.28)\n",
      "Requirement already satisfied: numpy>=1.13.3 in c:\\users\\rodrigo\\anaconda3\\lib\\site-packages (from pandas>=0.23->pandas-datareader) (1.18.1)\n",
      "Requirement already satisfied: python-dateutil>=2.6.1 in c:\\users\\rodrigo\\anaconda3\\lib\\site-packages (from pandas>=0.23->pandas-datareader) (2.8.1)\n",
      "Requirement already satisfied: pytz>=2017.2 in c:\\users\\rodrigo\\anaconda3\\lib\\site-packages (from pandas>=0.23->pandas-datareader) (2019.3)\n",
      "Requirement already satisfied: six>=1.5 in c:\\users\\rodrigo\\anaconda3\\lib\\site-packages (from python-dateutil>=2.6.1->pandas>=0.23->pandas-datareader) (1.14.0)\n",
      "Installing collected packages: pandas-datareader\n",
      "Successfully installed pandas-datareader-0.9.0\n",
      "Note: you may need to restart the kernel to use updated packages.\n"
     ]
    }
   ],
   "source": [
    "pip install pandas-datareader"
   ]
  },
  {
   "cell_type": "code",
   "execution_count": 125,
   "metadata": {},
   "outputs": [],
   "source": [
    "# Importo datareader\n",
    "\n",
    "import pandas_datareader as pdr\n",
    "from pandas_datareader import data"
   ]
  },
  {
   "cell_type": "code",
   "execution_count": 3,
   "metadata": {},
   "outputs": [],
   "source": [
    "# Descargo data del ticker GOLD = Barrick Gold\n",
    "\n",
    "gold = data.DataReader(\"GOLD\", \n",
    "                       start='2020-1-1', \n",
    "                       end='2020-08-31', \n",
    "                       data_source='yahoo')['Adj Close']"
   ]
  },
  {
   "cell_type": "code",
   "execution_count": 4,
   "metadata": {},
   "outputs": [
    {
     "data": {
      "text/plain": [
       "Date\n",
       "2020-01-02    18.323267\n",
       "2020-01-03    18.402544\n",
       "2020-01-06    18.224169\n",
       "2020-01-07    18.303446\n",
       "2020-01-08    17.659309\n",
       "                ...    \n",
       "2020-08-25    28.669525\n",
       "2020-08-26    29.287790\n",
       "2020-08-27    28.500000\n",
       "2020-08-28    29.200001\n",
       "2020-08-31    29.650000\n",
       "Name: Adj Close, Length: 168, dtype: float64"
      ]
     },
     "execution_count": 4,
     "metadata": {},
     "output_type": "execute_result"
    }
   ],
   "source": [
    "gold"
   ]
  },
  {
   "cell_type": "code",
   "execution_count": 5,
   "metadata": {},
   "outputs": [
    {
     "data": {
      "text/plain": [
       "pandas.core.series.Series"
      ]
     },
     "execution_count": 5,
     "metadata": {},
     "output_type": "execute_result"
    }
   ],
   "source": [
    "type(gold)"
   ]
  },
  {
   "cell_type": "code",
   "execution_count": 37,
   "metadata": {},
   "outputs": [
    {
     "data": {
      "text/plain": [
       "<matplotlib.axes._subplots.AxesSubplot at 0xae972ff248>"
      ]
     },
     "execution_count": 37,
     "metadata": {},
     "output_type": "execute_result"
    },
    {
     "data": {
      "image/png": "[encoded data removed]",
      "text/plain": [
       "<Figure size 432x288 with 1 Axes>"
      ]
     },
     "metadata": {
      "needs_background": "light"
     },
     "output_type": "display_data"
    }
   ],
   "source": [
    "# Grafico precio de cierre\n",
    "\n",
    "gold.plot(title='Barrick Gold Adj. Closing Price')"
   ]
  },
  {
   "cell_type": "code",
   "execution_count": 35,
   "metadata": {},
   "outputs": [],
   "source": [
    "\n",
    "returns = gold.pct_change()\n"
   ]
  },
  {
   "cell_type": "code",
   "execution_count": 38,
   "metadata": {},
   "outputs": [
    {
     "data": {
      "image/png": "[encoded data removed]",
      "text/plain": [
       "<Figure size 432x288 with 1 Axes>"
      ]
     },
     "metadata": {
      "needs_background": "light"
     },
     "output_type": "display_data"
    }
   ],
   "source": [
    "# Grafico retornos diarios\n",
    "\n",
    "goldreturns =((1 + returns).cumprod() - 1).plot(title='Barrick Gold Cumulative Returns')"
   ]
  },
  {
   "cell_type": "code",
   "execution_count": 39,
   "metadata": {},
   "outputs": [
    {
     "data": {
      "text/plain": [
       "<matplotlib.axes._subplots.AxesSubplot at 0xae96f78608>"
      ]
     },
     "execution_count": 39,
     "metadata": {},
     "output_type": "execute_result"
    }
   ],
   "source": [
    "goldreturns"
   ]
  },
  {
   "cell_type": "code",
   "execution_count": 40,
   "metadata": {},
   "outputs": [],
   "source": [
    "# Genero una lista de stocks\n",
    "\n",
    "stocklist = ['GOLD','WORK','NIO','PFE','XOM','AES']"
   ]
  },
  {
   "cell_type": "code",
   "execution_count": 44,
   "metadata": {},
   "outputs": [],
   "source": [
    "# Importo funcion datetime\n",
    "\n",
    "from datetime import datetime\n",
    "\n",
    "start = datetime(2020,3,1)\n",
    "end = datetime(2020,9,25)\n"
   ]
  },
  {
   "cell_type": "code",
   "execution_count": 45,
   "metadata": {},
   "outputs": [],
   "source": [
    "# Descargo datos de Yahoo Finance\n",
    "\n",
    "stclist = pdr.DataReader(stocklist, 'yahoo',start,end)"
   ]
  },
  {
   "cell_type": "code",
   "execution_count": 47,
   "metadata": {},
   "outputs": [
    {
     "data": {
      "text/plain": [
       "MultiIndex([('Adj Close', 'GOLD'),\n",
       "            ('Adj Close', 'WORK'),\n",
       "            ('Adj Close',  'NIO'),\n",
       "            ('Adj Close',  'PFE'),\n",
       "            ('Adj Close',  'XOM'),\n",
       "            ('Adj Close',  'AES'),\n",
       "            (    'Close', 'GOLD'),\n",
       "            (    'Close', 'WORK'),\n",
       "            (    'Close',  'NIO'),\n",
       "            (    'Close',  'PFE'),\n",
       "            (    'Close',  'XOM'),\n",
       "            (    'Close',  'AES'),\n",
       "            (     'High', 'GOLD'),\n",
       "            (     'High', 'WORK'),\n",
       "            (     'High',  'NIO'),\n",
       "            (     'High',  'PFE'),\n",
       "            (     'High',  'XOM'),\n",
       "            (     'High',  'AES'),\n",
       "            (      'Low', 'GOLD'),\n",
       "            (      'Low', 'WORK'),\n",
       "            (      'Low',  'NIO'),\n",
       "            (      'Low',  'PFE'),\n",
       "            (      'Low',  'XOM'),\n",
       "            (      'Low',  'AES'),\n",
       "            (     'Open', 'GOLD'),\n",
       "            (     'Open', 'WORK'),\n",
       "            (     'Open',  'NIO'),\n",
       "            (     'Open',  'PFE'),\n",
       "            (     'Open',  'XOM'),\n",
       "            (     'Open',  'AES'),\n",
       "            (   'Volume', 'GOLD'),\n",
       "            (   'Volume', 'WORK'),\n",
       "            (   'Volume',  'NIO'),\n",
       "            (   'Volume',  'PFE'),\n",
       "            (   'Volume',  'XOM'),\n",
       "            (   'Volume',  'AES')],\n",
       "           names=['Attributes', 'Symbols'])"
      ]
     },
     "execution_count": 47,
     "metadata": {},
     "output_type": "execute_result"
    }
   ],
   "source": [
    "stclist.keys()"
   ]
  },
  {
   "cell_type": "code",
   "execution_count": 48,
   "metadata": {},
   "outputs": [],
   "source": [
    "# Genero un DF con los precios de cierre\n",
    "\n",
    "close = stclist['Close']"
   ]
  },
  {
   "cell_type": "code",
   "execution_count": 49,
   "metadata": {},
   "outputs": [
    {
     "data": {
      "text/html": [
       "<div>\n",
       "<style scoped>\n",
       "    .dataframe tbody tr th:only-of-type {\n",
       "        vertical-align: middle;\n",
       "    }\n",
       "\n",
       "    .dataframe tbody tr th {\n",
       "        vertical-align: top;\n",
       "    }\n",
       "\n",
       "    .dataframe thead th {\n",
       "        text-align: right;\n",
       "    }\n",
       "</style>\n",
       "<table border=\"1\" class=\"dataframe\">\n",
       "  <thead>\n",
       "    <tr style=\"text-align: right;\">\n",
       "      <th>Symbols</th>\n",
       "      <th>GOLD</th>\n",
       "      <th>WORK</th>\n",
       "      <th>NIO</th>\n",
       "      <th>PFE</th>\n",
       "      <th>XOM</th>\n",
       "      <th>AES</th>\n",
       "    </tr>\n",
       "    <tr>\n",
       "      <th>Date</th>\n",
       "      <th></th>\n",
       "      <th></th>\n",
       "      <th></th>\n",
       "      <th></th>\n",
       "      <th></th>\n",
       "      <th></th>\n",
       "    </tr>\n",
       "  </thead>\n",
       "  <tbody>\n",
       "    <tr>\n",
       "      <th>2020-03-02</th>\n",
       "      <td>19.860001</td>\n",
       "      <td>27.209999</td>\n",
       "      <td>4.110000</td>\n",
       "      <td>34.880001</td>\n",
       "      <td>53.880001</td>\n",
       "      <td>18.219999</td>\n",
       "    </tr>\n",
       "    <tr>\n",
       "      <th>2020-03-03</th>\n",
       "      <td>20.620001</td>\n",
       "      <td>26.920000</td>\n",
       "      <td>4.060000</td>\n",
       "      <td>34.299999</td>\n",
       "      <td>51.299999</td>\n",
       "      <td>17.430000</td>\n",
       "    </tr>\n",
       "    <tr>\n",
       "      <th>2020-03-04</th>\n",
       "      <td>20.549999</td>\n",
       "      <td>27.799999</td>\n",
       "      <td>3.870000</td>\n",
       "      <td>36.400002</td>\n",
       "      <td>52.419998</td>\n",
       "      <td>17.830000</td>\n",
       "    </tr>\n",
       "    <tr>\n",
       "      <th>2020-03-05</th>\n",
       "      <td>21.160000</td>\n",
       "      <td>28.389999</td>\n",
       "      <td>3.720000</td>\n",
       "      <td>35.459999</td>\n",
       "      <td>50.110001</td>\n",
       "      <td>16.730000</td>\n",
       "    </tr>\n",
       "    <tr>\n",
       "      <th>2020-03-06</th>\n",
       "      <td>21.230000</td>\n",
       "      <td>26.420000</td>\n",
       "      <td>3.550000</td>\n",
       "      <td>35.020000</td>\n",
       "      <td>47.689999</td>\n",
       "      <td>16.820000</td>\n",
       "    </tr>\n",
       "    <tr>\n",
       "      <th>...</th>\n",
       "      <td>...</td>\n",
       "      <td>...</td>\n",
       "      <td>...</td>\n",
       "      <td>...</td>\n",
       "      <td>...</td>\n",
       "      <td>...</td>\n",
       "    </tr>\n",
       "    <tr>\n",
       "      <th>2020-09-21</th>\n",
       "      <td>28.190001</td>\n",
       "      <td>26.670000</td>\n",
       "      <td>18.809999</td>\n",
       "      <td>36.020000</td>\n",
       "      <td>36.430000</td>\n",
       "      <td>18.360001</td>\n",
       "    </tr>\n",
       "    <tr>\n",
       "      <th>2020-09-22</th>\n",
       "      <td>28.420000</td>\n",
       "      <td>26.410000</td>\n",
       "      <td>19.230000</td>\n",
       "      <td>36.250000</td>\n",
       "      <td>35.529999</td>\n",
       "      <td>18.240000</td>\n",
       "    </tr>\n",
       "    <tr>\n",
       "      <th>2020-09-23</th>\n",
       "      <td>27.139999</td>\n",
       "      <td>26.370001</td>\n",
       "      <td>17.959999</td>\n",
       "      <td>36.000000</td>\n",
       "      <td>34.389999</td>\n",
       "      <td>17.760000</td>\n",
       "    </tr>\n",
       "    <tr>\n",
       "      <th>2020-09-24</th>\n",
       "      <td>27.650000</td>\n",
       "      <td>26.590000</td>\n",
       "      <td>17.850000</td>\n",
       "      <td>35.759998</td>\n",
       "      <td>34.320000</td>\n",
       "      <td>17.959999</td>\n",
       "    </tr>\n",
       "    <tr>\n",
       "      <th>2020-09-25</th>\n",
       "      <td>27.700001</td>\n",
       "      <td>27.250000</td>\n",
       "      <td>18.320000</td>\n",
       "      <td>36.049999</td>\n",
       "      <td>34.639999</td>\n",
       "      <td>17.990000</td>\n",
       "    </tr>\n",
       "  </tbody>\n",
       "</table>\n",
       "<p>146 rows × 6 columns</p>\n",
       "</div>"
      ],
      "text/plain": [
       "Symbols          GOLD       WORK        NIO        PFE        XOM        AES\n",
       "Date                                                                        \n",
       "2020-03-02  19.860001  27.209999   4.110000  34.880001  53.880001  18.219999\n",
       "2020-03-03  20.620001  26.920000   4.060000  34.299999  51.299999  17.430000\n",
       "2020-03-04  20.549999  27.799999   3.870000  36.400002  52.419998  17.830000\n",
       "2020-03-05  21.160000  28.389999   3.720000  35.459999  50.110001  16.730000\n",
       "2020-03-06  21.230000  26.420000   3.550000  35.020000  47.689999  16.820000\n",
       "...               ...        ...        ...        ...        ...        ...\n",
       "2020-09-21  28.190001  26.670000  18.809999  36.020000  36.430000  18.360001\n",
       "2020-09-22  28.420000  26.410000  19.230000  36.250000  35.529999  18.240000\n",
       "2020-09-23  27.139999  26.370001  17.959999  36.000000  34.389999  17.760000\n",
       "2020-09-24  27.650000  26.590000  17.850000  35.759998  34.320000  17.959999\n",
       "2020-09-25  27.700001  27.250000  18.320000  36.049999  34.639999  17.990000\n",
       "\n",
       "[146 rows x 6 columns]"
      ]
     },
     "execution_count": 49,
     "metadata": {},
     "output_type": "execute_result"
    }
   ],
   "source": [
    "close"
   ]
  },
  {
   "cell_type": "code",
   "execution_count": 85,
   "metadata": {},
   "outputs": [
    {
     "data": {
      "text/plain": [
       "<matplotlib.legend.Legend at 0xae9b1ff9c8>"
      ]
     },
     "execution_count": 85,
     "metadata": {},
     "output_type": "execute_result"
    },
    {
     "data": {
      "image/png": "[encoded data removed]",
      "text/plain": [
       "<Figure size 432x288 with 1 Axes>"
      ]
     },
     "metadata": {
      "needs_background": "light"
     },
     "output_type": "display_data"
    }
   ],
   "source": [
    "# Grafico de la lista\n",
    "\n",
    "graph = close.plot(title='Stocklist',fontsize=12)\n",
    "graph.legend(close,fontsize=12,loc=\"center right\", borderaxespad=0.1,bbox_to_anchor=(1.28, 0.5))\n"
   ]
  },
  {
   "cell_type": "code",
   "execution_count": 79,
   "metadata": {},
   "outputs": [],
   "source": [
    "# Importo statsmodels\n",
    "\n",
    "from statsmodels.tsa.seasonal import seasonal_decompose\n",
    "import statsmodels.api as sm"
   ]
  },
  {
   "cell_type": "code",
   "execution_count": 110,
   "metadata": {},
   "outputs": [
    {
     "data": {
      "image/png": "[encoded data removed]",
      "text/plain": [
       "<Figure size 432x288 with 4 Axes>"
      ]
     },
     "metadata": {
      "needs_background": "light"
     },
     "output_type": "display_data"
    }
   ],
   "source": [
    "# Descomposición de la serie de tiempos\n",
    "\n",
    "decompose = sm.tsa.seasonal_decompose(gold,model='additive',period=30)\n",
    "fig = decompose.plot()\n"
   ]
  },
  {
   "cell_type": "code",
   "execution_count": 126,
   "metadata": {},
   "outputs": [
    {
     "data": {
      "text/html": [
       "<div>\n",
       "<style scoped>\n",
       "    .dataframe tbody tr th:only-of-type {\n",
       "        vertical-align: middle;\n",
       "    }\n",
       "\n",
       "    .dataframe tbody tr th {\n",
       "        vertical-align: top;\n",
       "    }\n",
       "\n",
       "    .dataframe thead th {\n",
       "        text-align: right;\n",
       "    }\n",
       "</style>\n",
       "<table border=\"1\" class=\"dataframe\">\n",
       "  <thead>\n",
       "    <tr style=\"text-align: right;\">\n",
       "      <th></th>\n",
       "      <th>High</th>\n",
       "      <th>Low</th>\n",
       "      <th>Open</th>\n",
       "      <th>Close</th>\n",
       "      <th>Volume</th>\n",
       "      <th>Adj Close</th>\n",
       "    </tr>\n",
       "    <tr>\n",
       "      <th>Date</th>\n",
       "      <th></th>\n",
       "      <th></th>\n",
       "      <th></th>\n",
       "      <th></th>\n",
       "      <th></th>\n",
       "      <th></th>\n",
       "    </tr>\n",
       "  </thead>\n",
       "  <tbody>\n",
       "    <tr>\n",
       "      <th>2020-01-02</th>\n",
       "      <td>18.809999</td>\n",
       "      <td>18.370001</td>\n",
       "      <td>18.709999</td>\n",
       "      <td>18.490000</td>\n",
       "      <td>7096800.0</td>\n",
       "      <td>18.323267</td>\n",
       "    </tr>\n",
       "    <tr>\n",
       "      <th>2020-01-03</th>\n",
       "      <td>18.959999</td>\n",
       "      <td>18.430000</td>\n",
       "      <td>18.930000</td>\n",
       "      <td>18.570000</td>\n",
       "      <td>13759300.0</td>\n",
       "      <td>18.402544</td>\n",
       "    </tr>\n",
       "    <tr>\n",
       "      <th>2020-01-06</th>\n",
       "      <td>19.010000</td>\n",
       "      <td>18.370001</td>\n",
       "      <td>18.980000</td>\n",
       "      <td>18.389999</td>\n",
       "      <td>14286900.0</td>\n",
       "      <td>18.224169</td>\n",
       "    </tr>\n",
       "    <tr>\n",
       "      <th>2020-01-07</th>\n",
       "      <td>18.530001</td>\n",
       "      <td>18.129999</td>\n",
       "      <td>18.389999</td>\n",
       "      <td>18.469999</td>\n",
       "      <td>12084100.0</td>\n",
       "      <td>18.303446</td>\n",
       "    </tr>\n",
       "    <tr>\n",
       "      <th>2020-01-08</th>\n",
       "      <td>18.510000</td>\n",
       "      <td>17.709999</td>\n",
       "      <td>18.510000</td>\n",
       "      <td>17.820000</td>\n",
       "      <td>14582200.0</td>\n",
       "      <td>17.659309</td>\n",
       "    </tr>\n",
       "  </tbody>\n",
       "</table>\n",
       "</div>"
      ],
      "text/plain": [
       "                 High        Low       Open      Close      Volume  Adj Close\n",
       "Date                                                                         \n",
       "2020-01-02  18.809999  18.370001  18.709999  18.490000   7096800.0  18.323267\n",
       "2020-01-03  18.959999  18.430000  18.930000  18.570000  13759300.0  18.402544\n",
       "2020-01-06  19.010000  18.370001  18.980000  18.389999  14286900.0  18.224169\n",
       "2020-01-07  18.530001  18.129999  18.389999  18.469999  12084100.0  18.303446\n",
       "2020-01-08  18.510000  17.709999  18.510000  17.820000  14582200.0  17.659309"
      ]
     },
     "execution_count": 126,
     "metadata": {},
     "output_type": "execute_result"
    }
   ],
   "source": [
    "wft = data.DataReader(\"GOLD\", 'yahoo', '2020-1-1', '2020-8-31')\n",
    "wft.head(5)"
   ]
  },
  {
   "cell_type": "code",
   "execution_count": 128,
   "metadata": {},
   "outputs": [
    {
     "data": {
      "text/plain": [
       "Date\n",
       "2020-01-02         NaN\n",
       "2020-01-03    0.004327\n",
       "2020-01-06   -0.009693\n",
       "2020-01-07    0.004350\n",
       "2020-01-08   -0.035192\n",
       "Name: var_diaria, dtype: float64"
      ]
     },
     "execution_count": 128,
     "metadata": {},
     "output_type": "execute_result"
    }
   ],
   "source": [
    "# Calculo la variacion diaria\n",
    "\n",
    "variacion_diaria = wft['Adj Close'] / wft['Adj Close'].shift(1) - 1\n",
    "wft['var_diaria'] = variacion_diaria\n",
    "wft['var_diaria'][:5]"
   ]
  },
  {
   "cell_type": "code",
   "execution_count": 129,
   "metadata": {},
   "outputs": [
    {
     "data": {
      "text/html": [
       "<div>\n",
       "<style scoped>\n",
       "    .dataframe tbody tr th:only-of-type {\n",
       "        vertical-align: middle;\n",
       "    }\n",
       "\n",
       "    .dataframe tbody tr th {\n",
       "        vertical-align: top;\n",
       "    }\n",
       "\n",
       "    .dataframe thead th {\n",
       "        text-align: right;\n",
       "    }\n",
       "</style>\n",
       "<table border=\"1\" class=\"dataframe\">\n",
       "  <thead>\n",
       "    <tr style=\"text-align: right;\">\n",
       "      <th></th>\n",
       "      <th>High</th>\n",
       "      <th>Low</th>\n",
       "      <th>Open</th>\n",
       "      <th>Close</th>\n",
       "      <th>Volume</th>\n",
       "      <th>Adj Close</th>\n",
       "      <th>pronostico</th>\n",
       "      <th>var_diaria</th>\n",
       "    </tr>\n",
       "    <tr>\n",
       "      <th>Date</th>\n",
       "      <th></th>\n",
       "      <th></th>\n",
       "      <th></th>\n",
       "      <th></th>\n",
       "      <th></th>\n",
       "      <th></th>\n",
       "      <th></th>\n",
       "      <th></th>\n",
       "    </tr>\n",
       "  </thead>\n",
       "  <tbody>\n",
       "    <tr>\n",
       "      <th>2020-01-02</th>\n",
       "      <td>18.809999</td>\n",
       "      <td>18.370001</td>\n",
       "      <td>18.709999</td>\n",
       "      <td>18.490000</td>\n",
       "      <td>7096800.0</td>\n",
       "      <td>18.323267</td>\n",
       "      <td>NaN</td>\n",
       "      <td>NaN</td>\n",
       "    </tr>\n",
       "    <tr>\n",
       "      <th>2020-01-03</th>\n",
       "      <td>18.959999</td>\n",
       "      <td>18.430000</td>\n",
       "      <td>18.930000</td>\n",
       "      <td>18.570000</td>\n",
       "      <td>13759300.0</td>\n",
       "      <td>18.402544</td>\n",
       "      <td>23.709296</td>\n",
       "      <td>0.004327</td>\n",
       "    </tr>\n",
       "    <tr>\n",
       "      <th>2020-01-06</th>\n",
       "      <td>19.010000</td>\n",
       "      <td>18.370001</td>\n",
       "      <td>18.980000</td>\n",
       "      <td>18.389999</td>\n",
       "      <td>14286900.0</td>\n",
       "      <td>18.224169</td>\n",
       "      <td>18.473819</td>\n",
       "      <td>-0.009693</td>\n",
       "    </tr>\n",
       "    <tr>\n",
       "      <th>2020-01-07</th>\n",
       "      <td>18.530001</td>\n",
       "      <td>18.129999</td>\n",
       "      <td>18.389999</td>\n",
       "      <td>18.469999</td>\n",
       "      <td>12084100.0</td>\n",
       "      <td>18.303446</td>\n",
       "      <td>18.297840</td>\n",
       "      <td>0.004350</td>\n",
       "    </tr>\n",
       "    <tr>\n",
       "      <th>2020-01-08</th>\n",
       "      <td>18.510000</td>\n",
       "      <td>17.709999</td>\n",
       "      <td>18.510000</td>\n",
       "      <td>17.820000</td>\n",
       "      <td>14582200.0</td>\n",
       "      <td>17.659309</td>\n",
       "      <td>18.376052</td>\n",
       "      <td>-0.035192</td>\n",
       "    </tr>\n",
       "    <tr>\n",
       "      <th>...</th>\n",
       "      <td>...</td>\n",
       "      <td>...</td>\n",
       "      <td>...</td>\n",
       "      <td>...</td>\n",
       "      <td>...</td>\n",
       "      <td>...</td>\n",
       "      <td>...</td>\n",
       "      <td>...</td>\n",
       "    </tr>\n",
       "    <tr>\n",
       "      <th>2020-08-25</th>\n",
       "      <td>28.940001</td>\n",
       "      <td>28.120001</td>\n",
       "      <td>28.840000</td>\n",
       "      <td>28.750000</td>\n",
       "      <td>17442900.0</td>\n",
       "      <td>28.669525</td>\n",
       "      <td>28.819341</td>\n",
       "      <td>-0.007594</td>\n",
       "    </tr>\n",
       "    <tr>\n",
       "      <th>2020-08-26</th>\n",
       "      <td>29.389999</td>\n",
       "      <td>28.389999</td>\n",
       "      <td>28.440001</td>\n",
       "      <td>29.370001</td>\n",
       "      <td>17248100.0</td>\n",
       "      <td>29.287790</td>\n",
       "      <td>28.602904</td>\n",
       "      <td>0.021565</td>\n",
       "    </tr>\n",
       "    <tr>\n",
       "      <th>2020-08-27</th>\n",
       "      <td>29.900000</td>\n",
       "      <td>28.309999</td>\n",
       "      <td>29.860001</td>\n",
       "      <td>28.580000</td>\n",
       "      <td>23211000.0</td>\n",
       "      <td>28.500000</td>\n",
       "      <td>29.212865</td>\n",
       "      <td>-0.026898</td>\n",
       "    </tr>\n",
       "    <tr>\n",
       "      <th>2020-08-28</th>\n",
       "      <td>29.549999</td>\n",
       "      <td>29.049999</td>\n",
       "      <td>29.209999</td>\n",
       "      <td>29.200001</td>\n",
       "      <td>19533800.0</td>\n",
       "      <td>29.200001</td>\n",
       "      <td>28.435656</td>\n",
       "      <td>0.024561</td>\n",
       "    </tr>\n",
       "    <tr>\n",
       "      <th>2020-08-31</th>\n",
       "      <td>29.980000</td>\n",
       "      <td>29.280001</td>\n",
       "      <td>29.480000</td>\n",
       "      <td>29.650000</td>\n",
       "      <td>14248100.0</td>\n",
       "      <td>29.650000</td>\n",
       "      <td>29.126255</td>\n",
       "      <td>0.015411</td>\n",
       "    </tr>\n",
       "  </tbody>\n",
       "</table>\n",
       "<p>168 rows × 8 columns</p>\n",
       "</div>"
      ],
      "text/plain": [
       "                 High        Low       Open      Close      Volume  Adj Close  \\\n",
       "Date                                                                            \n",
       "2020-01-02  18.809999  18.370001  18.709999  18.490000   7096800.0  18.323267   \n",
       "2020-01-03  18.959999  18.430000  18.930000  18.570000  13759300.0  18.402544   \n",
       "2020-01-06  19.010000  18.370001  18.980000  18.389999  14286900.0  18.224169   \n",
       "2020-01-07  18.530001  18.129999  18.389999  18.469999  12084100.0  18.303446   \n",
       "2020-01-08  18.510000  17.709999  18.510000  17.820000  14582200.0  17.659309   \n",
       "...               ...        ...        ...        ...         ...        ...   \n",
       "2020-08-25  28.940001  28.120001  28.840000  28.750000  17442900.0  28.669525   \n",
       "2020-08-26  29.389999  28.389999  28.440001  29.370001  17248100.0  29.287790   \n",
       "2020-08-27  29.900000  28.309999  29.860001  28.580000  23211000.0  28.500000   \n",
       "2020-08-28  29.549999  29.049999  29.209999  29.200001  19533800.0  29.200001   \n",
       "2020-08-31  29.980000  29.280001  29.480000  29.650000  14248100.0  29.650000   \n",
       "\n",
       "            pronostico  var_diaria  \n",
       "Date                                \n",
       "2020-01-02         NaN         NaN  \n",
       "2020-01-03   23.709296    0.004327  \n",
       "2020-01-06   18.473819   -0.009693  \n",
       "2020-01-07   18.297840    0.004350  \n",
       "2020-01-08   18.376052   -0.035192  \n",
       "...                ...         ...  \n",
       "2020-08-25   28.819341   -0.007594  \n",
       "2020-08-26   28.602904    0.021565  \n",
       "2020-08-27   29.212865   -0.026898  \n",
       "2020-08-28   28.435656    0.024561  \n",
       "2020-08-31   29.126255    0.015411  \n",
       "\n",
       "[168 rows x 8 columns]"
      ]
     },
     "execution_count": 129,
     "metadata": {},
     "output_type": "execute_result"
    }
   ],
   "source": [
    "wft"
   ]
  },
  {
   "cell_type": "code",
   "execution_count": 127,
   "metadata": {},
   "outputs": [
    {
     "name": "stderr",
     "output_type": "stream",
     "text": [
      "C:\\Users\\Rodrigo\\anaconda3\\lib\\site-packages\\statsmodels\\tsa\\base\\tsa_model.py:218: ValueWarning: A date index has been provided, but it has no associated frequency information and so will be ignored when e.g. forecasting.\n",
      "  ' ignored when e.g. forecasting.', ValueWarning)\n"
     ]
    },
    {
     "data": {
      "image/png": "[encoded data removed]",
      "text/plain": [
       "<Figure size 720x576 with 1 Axes>"
      ]
     },
     "metadata": {
      "needs_background": "light"
     },
     "output_type": "display_data"
    }
   ],
   "source": [
    "\"\"\"\"Modelo arima sobre el precio de cierre\"\"\"\"\"\n",
    "\n",
    "modelo = sm.tsa.ARIMA(wft['Adj Close'].iloc[1:], order=(1, 0, 0))  \n",
    "resultados = modelo.fit(disp=-1)  \n",
    "wft['pronostico'] = resultados.fittedvalues  \n",
    "plot = wft[['Adj Close', 'pronostico']].plot(figsize=(10, 8))  \n",
    "  "
   ]
  },
  {
   "cell_type": "code",
   "execution_count": 131,
   "metadata": {},
   "outputs": [
    {
     "name": "stderr",
     "output_type": "stream",
     "text": [
      "C:\\Users\\Rodrigo\\anaconda3\\lib\\site-packages\\statsmodels\\tsa\\base\\tsa_model.py:218: ValueWarning: A date index has been provided, but it has no associated frequency information and so will be ignored when e.g. forecasting.\n",
      "  ' ignored when e.g. forecasting.', ValueWarning)\n"
     ]
    },
    {
     "data": {
      "image/png": "[encoded data removed]",
      "text/plain": [
       "<Figure size 720x576 with 1 Axes>"
      ]
     },
     "metadata": {
      "needs_background": "light"
     },
     "output_type": "display_data"
    }
   ],
   "source": [
    "\n",
    "# modelo ARIMA sobre variación diaria\n",
    "\n",
    "modelo = sm.tsa.ARIMA(wft['var_diaria'].iloc[1:], order=(1, 0, 0))  \n",
    "resultados = modelo.fit(disp=-1)  \n",
    "wft['pronostico'] = resultados.fittedvalues  \n",
    "plot = wft[['var_diaria', 'pronostico']].plot(figsize=(10, 8)) \n"
   ]
  },
  {
   "cell_type": "code",
   "execution_count": null,
   "metadata": {},
   "outputs": [],
   "source": []
  }
 ],
 "metadata": {
  "kernelspec": {
   "display_name": "Python 3",
   "language": "python",
   "name": "python3"
  },
  "language_info": {
   "codemirror_mode": {
    "name": "ipython",
    "version": 3
   },
   "file_extension": ".py",
   "mimetype": "text/x-python",
   "name": "python",
   "nbconvert_exporter": "python",
   "pygments_lexer": "ipython3",
   "version": "3.7.6"
  }
 },
 "nbformat": 4,
 "nbformat_minor": 4
}
